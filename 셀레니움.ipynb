{
 "cells": [
  {
   "cell_type": "code",
   "execution_count": null,
   "id": "fb437fe2-73ab-4d65-af39-7560f85f5354",
   "metadata": {},
   "outputs": [],
   "source": [
    "# selenium\n",
    "1.import\n",
    " - import selenium         # 동적 웹페이지 크롤링 모듈 \n",
    " - from selenium import webdriver      # 동적 웹페이지 크롤링을 위한 드라이버(브라우저)\n",
    " - from selenium.webdriver.common.by import By   # element 선택\n",
    " - from selenium.webdriver.common.keys import Keys  # element에 키 입력\n",
    " - import time    # 시간 지연을 위한 import\n",
    "2. Chrome 브라우저 열기\n",
    " - driver = webdriver.Chrome()\n",
    " - driver.get(url)\n",
    "3. 브라우저 닫기\n",
    " - driver.close()\n",
    "4. 브라우저 이동\n",
    " - driver.back()\n",
    " - driver.forward()\n",
    "5. 요소선택\n",
    " - driver.find_element(By.XPATH,'XPATH 경로')\n",
    " - driver.find_element(By.ID,'ID명')\n",
    " - driver.find_elements(By.CLASS_NAME,'CLASS명')  # 복수개 선택 (리스트로 반환)\n",
    " - driver.find_elements(By.TAG_NAME,'TAG명')\n",
    " - driver.find_element(By.CSS_SELECTOR,'CSS_SELECTOR명')\n",
    " - driver.find_element(By.NAME,'NAME명')\n",
    "6. 이벤트 연결\n",
    " - 요소.click()                           #클릭\n",
    " - 요소.send_keys('입력내용')             #텍스트입력\n",
    " - 요소.send_Keys(Keys.특수키명)          #특수키입력\n",
    " - 요소.clear()                           #텍스트지우기\n",
    "7. iframe 지정\n",
    " - 변수 = driver.find_elements(By.TAG_NAME,'TAG명')  \n",
    "    driver.switch_to.frame(변수)\n",
    "    driver.switch_to.default_content()\n",
    "8. 팝업창 이동/수락/거절\n",
    " -  driver.switch_to.alert\n",
    "    from selenium.webdriver.common.alert import Alert\n",
    "    Alert(driver).accept()\n",
    "    Alert(driver).dismiss()\n",
    "    print(Alert(driver).text)\n",
    "9. 스크롤내리기\n",
    " - driver.excute_script('window.scrollTo(0,document.body.scrollHeight);')\n",
    "           └ excute_script #자바 스크립트 명령어를 사용하게 하는 함수\n",
    "10. 스크린샷\n",
    " - 변수 = 선택요소\n",
    "    변수.save_screenshot('저장이미지이름.png')\n",
    "11. 요소의 텍스트 읽기\n",
    " - 요소.text\n",
    "12. 요소의 속성값 추출\n",
    " - 요소.get_attribute(속성명)\n",
    "13. 특수키\n",
    " - ARROW_DOWN / ARROW_UP / ARROW_LEFT / ARROW_RIGHT / ARROW_BACKSPACE  #방향키\n",
    " - DELETE / HOME / END / INSERT\n",
    " - ALT / COMMAND / CONTROL / SHIFT / ENTER / SPACE / TAB / F1 F2 ... F12\n",
    "14. 브라우저 새로고침\n",
    " - driver.refresh()"
   ]
  }
 ],
 "metadata": {
  "kernelspec": {
   "display_name": "Python 3 (ipykernel)",
   "language": "python",
   "name": "python3"
  },
  "language_info": {
   "codemirror_mode": {
    "name": "ipython",
    "version": 3
   },
   "file_extension": ".py",
   "mimetype": "text/x-python",
   "name": "python",
   "nbconvert_exporter": "python",
   "pygments_lexer": "ipython3",
   "version": "3.11.7"
  }
 },
 "nbformat": 4,
 "nbformat_minor": 5
}
